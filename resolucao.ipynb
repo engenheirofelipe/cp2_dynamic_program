{
 "cells": [
  {
   "cell_type": "markdown",
   "id": "7852a283",
   "metadata": {},
   "source": [
    "# Dada a lista ordenada [3, 5, 7, 8, 11, 14, 15], utilize o algoritmo de busca binária para encontrar o valor 11. Retorne o índice do alvo e mostre o funcionamento do algoritmo passo a passo (a cada iteração)."
   ]
  },
  {
   "cell_type": "code",
   "execution_count": 5,
   "id": "d065bc24",
   "metadata": {},
   "outputs": [
    {
     "name": "stdout",
     "output_type": "stream",
     "text": [
      "O elemento 11 encotrado está na posição 4\n"
     ]
    }
   ],
   "source": [
    "lista = [3, 5, 7, 8, 11, 14, 15]\n",
    "alvo = 11\n",
    "\n",
    "i = 0\n",
    "while i < len(lista):\n",
    "    if lista[i] == alvo:\n",
    "        print(f\"O elemento {lista[i]} encotrado está na posição {i}\")\n",
    "        break\n",
    "    i += 1\n",
    "else:\n",
    "    print(\"Elemento não encontrado na lista\")\n"
   ]
  },
  {
   "cell_type": "code",
   "execution_count": null,
   "id": "9807875f",
   "metadata": {},
   "outputs": [],
   "source": []
  }
 ],
 "metadata": {
  "kernelspec": {
   "display_name": "Python 3",
   "language": "python",
   "name": "python3"
  },
  "language_info": {
   "codemirror_mode": {
    "name": "ipython",
    "version": 3
   },
   "file_extension": ".py",
   "mimetype": "text/x-python",
   "name": "python",
   "nbconvert_exporter": "python",
   "pygments_lexer": "ipython3",
   "version": "3.13.0"
  }
 },
 "nbformat": 4,
 "nbformat_minor": 5
}
