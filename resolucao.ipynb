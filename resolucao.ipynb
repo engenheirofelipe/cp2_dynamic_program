{
 "cells": [
  {
   "cell_type": "markdown",
   "id": "7852a283",
   "metadata": {},
   "source": [
    "# Dada a lista ordenada [3, 5, 7, 8, 11, 14, 15], utilize o algoritmo de busca binária para encontrar o valor 11. Retorne o índice do alvo e mostre o funcionamento do algoritmo passo a passo (a cada iteração)."
   ]
  },
  {
   "cell_type": "code",
   "execution_count": 1,
   "id": "d065bc24",
   "metadata": {},
   "outputs": [
    {
     "name": "stdout",
     "output_type": "stream",
     "text": [
      "Passo 1:\n",
      "Início = 0, Fim = 6\n",
      "Meio = 3, Valor no meio = 8\n",
      "11 é maior que 8. Buscar na metade direita.\n",
      "\n",
      "Passo 2:\n",
      "Início = 4, Fim = 6\n",
      "Meio = 5, Valor no meio = 14\n",
      "11 é menor que 14. Buscar na metade esquerda.\n",
      "\n",
      "Passo 3:\n",
      "Início = 4, Fim = 4\n",
      "Meio = 4, Valor no meio = 11\n",
      "Encontrado! O índice de 11 é 4.\n",
      "\n"
     ]
    }
   ],
   "source": [
    "lista = [3, 5, 7, 8, 11, 14, 15]\n",
    "alvo = 11\n",
    "\n",
    "inicio = 0\n",
    "fim = len(lista) - 1\n",
    "passo = 1\n",
    "\n",
    "while inicio <= fim:\n",
    "    meio = (inicio + fim) // 2\n",
    "    print(f\"Passo {passo}:\")\n",
    "    print(f\"Início = {inicio}, Fim = {fim}\")\n",
    "    print(f\"Meio = {meio}, Valor no meio = {lista[meio]}\")\n",
    "    \n",
    "    if lista[meio] == alvo:\n",
    "        print(f\"Encontrado! O índice de {alvo} é {meio}.\\n\")\n",
    "        break\n",
    "    elif lista[meio] < alvo:\n",
    "        print(f\"{alvo} é maior que {lista[meio]}. Buscar na metade direita.\\n\")\n",
    "        inicio = meio + 1\n",
    "    else:\n",
    "        print(f\"{alvo} é menor que {lista[meio]}. Buscar na metade esquerda.\\n\")\n",
    "        fim = meio - 1\n",
    "    \n",
    "    passo += 1\n",
    "\n",
    "    \n"
   ]
  },
  {
   "cell_type": "markdown",
   "id": "92a524ab",
   "metadata": {},
   "source": [
    "## 5 Perguntar professor Dada a lista ordenada [3, 5, 7, 8, 11, 14, 15], utilize o algoritmo de busca binária para encontrar o valor 11. Retorne o índice do alvo e mostre o funcionamento do algoritmo passo a passo (a cada iteração)."
   ]
  },
  {
   "cell_type": "code",
   "execution_count": null,
   "id": "9807875f",
   "metadata": {},
   "outputs": [],
   "source": [
    "## Aguardando professor\n",
    "\n",
    "    \n"
   ]
  },
  {
   "cell_type": "markdown",
   "id": "33dde792",
   "metadata": {},
   "source": [
    "# 6 Crie uma estrutura de entrada para registrar 10 carros (ex.: placas ou modelos). Utilize a estratégia LIFO (Last In, First Out) para simular a retirada de um estacionamento, onde o último carro a entrar é o primeiro a sair. Mostre a ordem de entrada e a sequência de saída."
   ]
  },
  {
   "cell_type": "code",
   "execution_count": null,
   "id": "aba9d80b",
   "metadata": {},
   "outputs": [
    {
     "name": "stdout",
     "output_type": "stream",
     "text": [
      "Entrada dos carros:\n",
      "Carro  entrou.\n",
      "Carro  entrou.\n",
      "Carro  entrou.\n",
      "Carro  entrou.\n",
      "Carro  entrou.\n",
      "Carro  entrou.\n",
      "Carro  entrou.\n",
      "Carro  entrou.\n"
     ]
    }
   ],
   "source": [
    "estacionamento = []\n",
    "print(\"Entrada dos carros:\")\n",
    "for i in range(10):\n",
    "   carro = input(f\"Digite o modelo ou placa do carro {i+1}: \")\n",
    "   estacionamento.append(carro)\n",
    "   print(f\"Carro {carro} entrou.\")\n",
    "print(\"\\nOrdem de entrada dos carros:\")\n",
    "for carro in estacionamento:\n",
    "   print(carro)\n",
    "print(\"\\nSequência de saída dos carros:\")\n",
    "while estacionamento:\n",
    "   carro = estacionamento.pop()\n",
    "   print(f\"Carro {carro} saiu.\")"
   ]
  },
  {
   "cell_type": "markdown",
   "id": "58596305",
   "metadata": {},
   "source": [
    "# Crie um algoritmo que permita ao usuário selecionar qual estrutura deseja utilizar:\n",
    "1. Ordenar a lista do Exercício 1 (busca binária). \n",
    "2. Atender os clientes do Exercício 2 (FIFO).\n",
    "3. Retirar os carros do Exercício 3 (LIFO)."
   ]
  },
  {
   "cell_type": "code",
   "execution_count": 2,
   "id": "480cc0d3",
   "metadata": {},
   "outputs": [
    {
     "name": "stdout",
     "output_type": "stream",
     "text": [
      " A lista ordenada do exercício 1 é : [3, 5, 7, 8, 11, 14, 15]\n"
     ]
    }
   ],
   "source": [
    "def merge_sort(lista):\n",
    "    if len(lista) <= 1:\n",
    "        return lista\n",
    "    \n",
    "    meio = len(lista) // 2\n",
    "    esquerda = merge_sort(lista[:meio])\n",
    "    direita = merge_sort(lista[meio:])\n",
    "\n",
    "    resultado = []\n",
    "\n",
    "    i = j = 0\n",
    "\n",
    "    while i < len(esquerda) and j < len(direita):\n",
    "        if esquerda[i] < direita[j]:\n",
    "            resultado.append(esquerda[i])\n",
    "            i += 1\n",
    "        else:\n",
    "            resultado.append(direita[j])\n",
    "            j += 1\n",
    "\n",
    "    return resultado + esquerda[i:] + direita[j:]\n",
    "\n",
    "lista = [5, 3, 8, 7, 14, 11, 15]\n",
    "print(f\" A lista ordenada do exercício 1 é : {merge_sort(lista)}\")"
   ]
  }
 ],
 "metadata": {
  "kernelspec": {
   "display_name": "Python 3",
   "language": "python",
   "name": "python3"
  },
  "language_info": {
   "codemirror_mode": {
    "name": "ipython",
    "version": 3
   },
   "file_extension": ".py",
   "mimetype": "text/x-python",
   "name": "python",
   "nbconvert_exporter": "python",
   "pygments_lexer": "ipython3",
   "version": "3.13.0"
  }
 },
 "nbformat": 4,
 "nbformat_minor": 5
}
