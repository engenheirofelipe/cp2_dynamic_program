{
 "cells": [
  {
   "cell_type": "markdown",
   "id": "7852a283",
   "metadata": {},
   "source": [
    "# Dada a lista ordenada [3, 5, 7, 8, 11, 14, 15], utilize o algoritmo de busca binária para encontrar o valor 11. Retorne o índice do alvo e mostre o funcionamento do algoritmo passo a passo (a cada iteração)."
   ]
  },
  {
   "cell_type": "code",
<<<<<<< HEAD
   "execution_count": 6,
=======
   "execution_count": 2,
>>>>>>> 30ec33ade48dc34d86836de76a029c9b574167f6
   "id": "d065bc24",
   "metadata": {},
   "outputs": [
    {
     "name": "stdout",
     "output_type": "stream",
     "text": [
      "O elemento 11 encotrado está na posição 4\n"
     ]
    }
   ],
   "source": [
    "lista = [3, 5, 7, 8, 11, 14, 15]\n",
    "alvo = 11\n",
    "\n",
    "i = 0\n",
    "while i < len(lista):\n",
    "    if lista[i] == alvo:\n",
    "        print(f\"O elemento {lista[i]} encotrado está na posição {i}\")\n",
    "        break\n",
    "    i += 1\n",
    "else:\n",
    "    print(\"Elemento não encontrado na lista\")\n"
   ]
  },
  {
   "cell_type": "markdown",
<<<<<<< HEAD
   "id": "d85b9f77",
   "metadata": {},
   "source": [
    "# Crie um algoritmo que permita ao usuário selecionar qual estrutura deseja utilizar:\n",
    "1. Ordenar a lista do Exercício 1 (busca binária). \n",
    "2. Atender os clientes do Exercício 2 (FIFO).\n",
    "3. Retirar os carros do Exercício 3 (LIFO)"
=======
   "id": "92a524ab",
   "metadata": {},
   "source": [
    "## Dada a lista ordenada [3, 5, 7, 8, 11, 14, 15], utilize o algoritmo de busca binária para encontrar o valor 11. Retorne o índice do alvo e mostre o funcionamento do algoritmo passo a passo (a cada iteração)."
>>>>>>> 30ec33ade48dc34d86836de76a029c9b574167f6
   ]
  },
  {
   "cell_type": "code",
   "execution_count": null,
   "id": "292692ea",
   "metadata": {},
   "outputs": [
    {
     "name": "stdout",
     "output_type": "stream",
     "text": [
<<<<<<< HEAD
      " Lista ordenada referente ao exercício 1 [3, 5, 7, 8, 11, 14, 15]\n"
=======
      "Passo 1:\n",
      "Início = 0, Fim = 6\n",
      "Meio = 3, Valor no meio = 8\n",
      "11 é maior que 8. Buscar na metade direita.\n",
      "\n",
      "Passo 2:\n",
      "Início = 4, Fim = 6\n",
      "Meio = 5, Valor no meio = 14\n",
      "11 é menor que 14. Buscar na metade esquerda.\n",
      "\n",
      "Passo 3:\n",
      "Início = 4, Fim = 4\n",
      "Meio = 4, Valor no meio = 11\n",
      "Encontrado! O índice de 11 é 4.\n",
      "\n"
>>>>>>> 30ec33ade48dc34d86836de76a029c9b574167f6
     ]
    }
   ],
   "source": [
<<<<<<< HEAD
    "# Ordenar a lista do Exercício 1 (busca binária).\n",
    "lista = [5, 3, 7, 8, 11, 15, 14] \n",
    "\n",
    "def merge_sort(lista):\n",
    "    if len(lista) <= 1:\n",
    "        return lista\n",
    "\n",
    "    meio = len(lista) // 2\n",
    "    esquerda = merge_sort(lista[:meio])\n",
    "    direita = merge_sort(lista[meio:])\n",
    "\n",
    "    resultado = []\n",
    "\n",
    "    i = j = 0\n",
    "\n",
    "    while i < len(esquerda) and j < len(direita):\n",
    "        if esquerda[i] < direita[j]:\n",
    "            resultado.append(esquerda[i])\n",
    "            i += 1\n",
    "        else:\n",
    "            resultado.append(direita[j])\n",
    "            j += 1\n",
    "\n",
    "    return resultado + esquerda[i:] + direita[j:]\n",
    "\n",
    "lista = [5, 3, 7, 8, 11, 15, 14] \n",
    "print(f\" Lista ordenada referente ao exercício 1 (busca binária) {merge_sort(lista)}\")\n"
=======
    "lista = [3, 5, 7, 8, 11, 14, 15]\n",
    "alvo = 11\n",
    "\n",
    "inicio = 0\n",
    "fim = len(lista) - 1\n",
    "passo = 1\n",
    "\n",
    "while inicio <= fim:\n",
    "    meio = (inicio + fim) // 2\n",
    "    print(f\"Passo {passo}:\")\n",
    "    print(f\"Início = {inicio}, Fim = {fim}\")\n",
    "    print(f\"Meio = {meio}, Valor no meio = {lista[meio]}\")\n",
    "    \n",
    "    if lista[meio] == alvo:\n",
    "        print(f\"Encontrado! O índice de {alvo} é {meio}.\\n\")\n",
    "        break\n",
    "    elif lista[meio] < alvo:\n",
    "        print(f\"{alvo} é maior que {lista[meio]}. Buscar na metade direita.\\n\")\n",
    "        inicio = meio + 1\n",
    "    else:\n",
    "        print(f\"{alvo} é menor que {lista[meio]}. Buscar na metade esquerda.\\n\")\n",
    "        fim = meio - 1\n",
    "    \n",
    "    passo += 1\n",
    "\n",
    "    \n"
>>>>>>> 30ec33ade48dc34d86836de76a029c9b574167f6
   ]
  }
 ],
 "metadata": {
  "kernelspec": {
   "display_name": "Python 3",
   "language": "python",
   "name": "python3"
  },
  "language_info": {
   "codemirror_mode": {
    "name": "ipython",
    "version": 3
   },
   "file_extension": ".py",
   "mimetype": "text/x-python",
   "name": "python",
   "nbconvert_exporter": "python",
   "pygments_lexer": "ipython3",
   "version": "3.11.9"
  }
 },
 "nbformat": 4,
 "nbformat_minor": 5
}
